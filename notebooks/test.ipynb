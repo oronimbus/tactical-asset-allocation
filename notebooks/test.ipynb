{
 "cells": [
  {
   "cell_type": "code",
   "execution_count": 1,
   "metadata": {},
   "outputs": [],
   "source": [
    "%%capture\n",
    "%reload_ext autoreload\n",
    "%autoreload 2\n",
    "%cd .."
   ]
  },
  {
   "cell_type": "code",
   "execution_count": 2,
   "metadata": {},
   "outputs": [],
   "source": [
    "from src.taa.tools.data import get_strategy_price_data\n",
    "from src.taa.strategy.static import STRATEGIES\n",
    "from src.taa.strategy.strategies import StrategyPipeline\n",
    "from src.taa.strategy.signals import Signal\n",
    "from src.taa.backtest.positions import EqualWeights, RiskParity\n",
    "from src.taa.backtest.performance import Tearsheet\n",
    "\n",
    "import pandas as pd\n",
    "import numpy as np\n",
    "\n",
    "\n",
    "start, end = \"2011-01-01\", \"2023-03-01\""
   ]
  },
  {
   "cell_type": "code",
   "execution_count": 3,
   "metadata": {},
   "outputs": [
    {
     "name": "stdout",
     "output_type": "stream",
     "text": [
      "[*********************100%***********************]  29 of 29 completed\n"
     ]
    }
   ],
   "source": [
    "data = get_strategy_price_data(STRATEGIES, start, end).dropna()\n",
    "\n",
    "# test signals\n",
    "signal_1 = Signal(data).momentum_score()\n",
    "signal_2 = Signal(data).sma_crossover()\n",
    "signal_3 = Signal(data).protective_momentum_score()\n",
    "\n",
    "# test pipeline\n",
    "pipeline = StrategyPipeline(STRATEGIES)"
   ]
  },
  {
   "cell_type": "code",
   "execution_count": 4,
   "metadata": {},
   "outputs": [],
   "source": [
    "rebalance_dates = pd.bdate_range(\"2014-01-01\", end, freq=\"BM\")\n",
    "assets = [\"VTI\", \"VEU\", \"VNQ\", \"AGG\"]\n",
    "returns = data.pct_change().dropna().loc[:, assets]\n",
    "\n",
    "ew = EqualWeights(assets, rebalance_dates)\n",
    "rp = RiskParity(assets, rebalance_dates, returns)"
   ]
  },
  {
   "cell_type": "code",
   "execution_count": 11,
   "metadata": {},
   "outputs": [
    {
     "data": {
      "text/html": [
       "<div>\n",
       "<style scoped>\n",
       "    .dataframe tbody tr th:only-of-type {\n",
       "        vertical-align: middle;\n",
       "    }\n",
       "\n",
       "    .dataframe tbody tr th {\n",
       "        vertical-align: top;\n",
       "    }\n",
       "\n",
       "    .dataframe thead th {\n",
       "        text-align: right;\n",
       "    }\n",
       "</style>\n",
       "<table border=\"1\" class=\"dataframe\">\n",
       "  <thead>\n",
       "    <tr style=\"text-align: right;\">\n",
       "      <th></th>\n",
       "      <th>VTI</th>\n",
       "      <th>VEU</th>\n",
       "      <th>VNQ</th>\n",
       "      <th>AGG</th>\n",
       "    </tr>\n",
       "  </thead>\n",
       "  <tbody>\n",
       "    <tr>\n",
       "      <th>#obs</th>\n",
       "      <td>2483.000000</td>\n",
       "      <td>2483.000000</td>\n",
       "      <td>2483.000000</td>\n",
       "      <td>2483.000000</td>\n",
       "    </tr>\n",
       "    <tr>\n",
       "      <th>#years</th>\n",
       "      <td>14.293651</td>\n",
       "      <td>14.293651</td>\n",
       "      <td>14.293651</td>\n",
       "      <td>14.293651</td>\n",
       "    </tr>\n",
       "    <tr>\n",
       "      <th>Total Return</th>\n",
       "      <td>2.003614</td>\n",
       "      <td>0.529694</td>\n",
       "      <td>0.740374</td>\n",
       "      <td>0.104530</td>\n",
       "    </tr>\n",
       "    <tr>\n",
       "      <th>Annual. Return</th>\n",
       "      <td>0.079982</td>\n",
       "      <td>0.030185</td>\n",
       "      <td>0.039527</td>\n",
       "      <td>0.006980</td>\n",
       "    </tr>\n",
       "    <tr>\n",
       "      <th>Volatility</th>\n",
       "      <td>0.178678</td>\n",
       "      <td>0.172981</td>\n",
       "      <td>0.203189</td>\n",
       "      <td>0.047680</td>\n",
       "    </tr>\n",
       "    <tr>\n",
       "      <th>Sharpe Ratio</th>\n",
       "      <td>0.714572</td>\n",
       "      <td>0.336574</td>\n",
       "      <td>0.379616</td>\n",
       "      <td>0.235534</td>\n",
       "    </tr>\n",
       "    <tr>\n",
       "      <th>StdErr</th>\n",
       "      <td>0.268913</td>\n",
       "      <td>0.267565</td>\n",
       "      <td>0.268833</td>\n",
       "      <td>0.267850</td>\n",
       "    </tr>\n",
       "    <tr>\n",
       "      <th>Sortino</th>\n",
       "      <td>0.857065</td>\n",
       "      <td>0.414683</td>\n",
       "      <td>0.454392</td>\n",
       "      <td>0.274681</td>\n",
       "    </tr>\n",
       "    <tr>\n",
       "      <th>Calmar</th>\n",
       "      <td>-0.228518</td>\n",
       "      <td>-0.086298</td>\n",
       "      <td>-0.093227</td>\n",
       "      <td>-0.037866</td>\n",
       "    </tr>\n",
       "    <tr>\n",
       "      <th>Skewness</th>\n",
       "      <td>-0.568513</td>\n",
       "      <td>-1.013965</td>\n",
       "      <td>-1.232886</td>\n",
       "      <td>-1.595342</td>\n",
       "    </tr>\n",
       "    <tr>\n",
       "      <th>Kurtosis</th>\n",
       "      <td>16.884332</td>\n",
       "      <td>16.978388</td>\n",
       "      <td>25.711901</td>\n",
       "      <td>33.877512</td>\n",
       "    </tr>\n",
       "    <tr>\n",
       "      <th>MaxDD</th>\n",
       "      <td>-0.350003</td>\n",
       "      <td>-0.349772</td>\n",
       "      <td>-0.423982</td>\n",
       "      <td>-0.184329</td>\n",
       "    </tr>\n",
       "    <tr>\n",
       "      <th>HWM</th>\n",
       "      <td>3.599125</td>\n",
       "      <td>1.806157</td>\n",
       "      <td>2.270669</td>\n",
       "      <td>1.290869</td>\n",
       "    </tr>\n",
       "    <tr>\n",
       "      <th>AutoCorr</th>\n",
       "      <td>-0.119708</td>\n",
       "      <td>-0.104809</td>\n",
       "      <td>-0.056084</td>\n",
       "      <td>0.030997</td>\n",
       "    </tr>\n",
       "  </tbody>\n",
       "</table>\n",
       "</div>"
      ],
      "text/plain": [
       "                        VTI          VEU          VNQ          AGG\n",
       "#obs            2483.000000  2483.000000  2483.000000  2483.000000\n",
       "#years            14.293651    14.293651    14.293651    14.293651\n",
       "Total Return       2.003614     0.529694     0.740374     0.104530\n",
       "Annual. Return     0.079982     0.030185     0.039527     0.006980\n",
       "Volatility         0.178678     0.172981     0.203189     0.047680\n",
       "Sharpe Ratio       0.714572     0.336574     0.379616     0.235534\n",
       "StdErr             0.268913     0.267565     0.268833     0.267850\n",
       "Sortino            0.857065     0.414683     0.454392     0.274681\n",
       "Calmar            -0.228518    -0.086298    -0.093227    -0.037866\n",
       "Skewness          -0.568513    -1.013965    -1.232886    -1.595342\n",
       "Kurtosis          16.884332    16.978388    25.711901    33.877512\n",
       "MaxDD             -0.350003    -0.349772    -0.423982    -0.184329\n",
       "HWM                3.599125     1.806157     2.270669     1.290869\n",
       "AutoCorr          -0.119708    -0.104809    -0.056084     0.030997"
      ]
     },
     "execution_count": 11,
     "metadata": {},
     "output_type": "execute_result"
    }
   ],
   "source": [
    "Tearsheet(returns).summary()"
   ]
  }
 ],
 "metadata": {
  "kernelspec": {
   "display_name": "dev",
   "language": "python",
   "name": "python3"
  },
  "language_info": {
   "codemirror_mode": {
    "name": "ipython",
    "version": 3
   },
   "file_extension": ".py",
   "mimetype": "text/x-python",
   "name": "python",
   "nbconvert_exporter": "python",
   "pygments_lexer": "ipython3",
   "version": "3.8.9"
  },
  "orig_nbformat": 4,
  "vscode": {
   "interpreter": {
    "hash": "ec64a4d0bbcb2c2b0eef540b2e90414f891bee5ed658bf7f884aa4a3dd4ddfa7"
   }
  }
 },
 "nbformat": 4,
 "nbformat_minor": 2
}
